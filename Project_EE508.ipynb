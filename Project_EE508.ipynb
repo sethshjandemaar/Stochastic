{
 "cells": [
  {
   "cell_type": "markdown",
   "metadata": {},
   "source": [
    "# Stochastic Project\n",
    "### Seth Shjandemaar (sethshj@uw.edu)\n",
    "### EE508\n",
    "\n",
    "##### Predict power output over a year in three location. Will scale up if we have time\n",
    "_______________________________________________________________________________________\n"
   ]
  },
  {
   "cell_type": "code",
   "execution_count": null,
   "metadata": {},
   "outputs": [],
   "source": []
  },
  {
   "cell_type": "markdown",
   "metadata": {},
   "source": [
    "\n",
    "##### Section 1 #####\n",
    "\"\"\"Gather the APIs from NSDRB and EPA \"\"\"\n",
    "_________________________________________\n"
   ]
  },
  {
   "cell_type": "code",
   "execution_count": 25,
   "metadata": {},
   "outputs": [
    {
     "name": "stdout",
     "output_type": "stream",
     "text": [
      "      ac_monthly  poa_monthly  solrad_monthly  dc_monthly   ac  poa   dn   dc  \\\n",
      "0     158.855717    49.594460        1.599821  168.911397  0.0  0.0  0.0  0.0   \n",
      "1     219.273078    68.479279        2.445689  231.757721  0.0  0.0  0.0  0.0   \n",
      "2     326.360211   104.095442        3.357917  344.115809  0.0  0.0  0.0  0.0   \n",
      "3     462.833487   151.836659        5.061222  486.318148  0.0  0.0  0.0  0.0   \n",
      "4     549.822714   185.793653        5.993344  577.360847  0.0  0.0  0.0  0.0   \n",
      "...          ...          ...             ...         ...  ...  ...  ...  ...   \n",
      "8755         NaN          NaN             NaN         NaN  0.0  0.0  0.0  0.0   \n",
      "8756         NaN          NaN             NaN         NaN  0.0  0.0  0.0  0.0   \n",
      "8757         NaN          NaN             NaN         NaN  0.0  0.0  0.0  0.0   \n",
      "8758         NaN          NaN             NaN         NaN  0.0  0.0  0.0  0.0   \n",
      "8759         NaN          NaN             NaN         NaN  0.0  0.0  0.0  0.0   \n",
      "\n",
      "       df  tamb  tcell  wspd   alb  \n",
      "0     0.0   4.0    4.0   0.5  0.07  \n",
      "1     0.0   3.0    3.0   0.5  0.07  \n",
      "2     0.0   3.0    3.0   0.5  0.07  \n",
      "3     0.0   3.0    3.0   0.7  0.07  \n",
      "4     0.0   3.0    3.0   0.7  0.07  \n",
      "...   ...   ...    ...   ...   ...  \n",
      "8755  0.0   6.0    6.0   0.7  0.07  \n",
      "8756  0.0   5.0    5.0   0.6  0.07  \n",
      "8757  0.0   5.0    5.0   0.6  0.07  \n",
      "8758  0.0   5.0    5.0   0.6  0.07  \n",
      "8759  0.0   4.0    4.0   0.6  0.07  \n",
      "\n",
      "[8760 rows x 13 columns]\n"
     ]
    }
   ],
   "source": [
    "import requests\n",
    "import pathlib as Path\n",
    "import pandas as pd\n",
    "import pprint as pprint\n",
    "import itertools \n",
    "\n",
    "base_url = \"https://developer.nrel.gov/api/pvwatts/v8.json\"\n",
    "params = {\n",
    "    \"api_key\": \"fYboXz2qILmcN8roOcIfPAf3hFRoYbActFEo1AlH\",  # Replace with your NREL API key\n",
    "    \"lat\": 47.6061,\n",
    "    \"lon\": -122.3328,  # Replace with desired longitude\n",
    "    \"system_capacity\": 4,  # System size in kW\n",
    "    \"module_type\": 0,  # 0 for standard module\n",
    "    \"losses\": 14,  # System losses in %\n",
    "    \"array_type\": 1,  # 1 for fixed open rack\n",
    "    \"tilt\": 20,  # Tilt angle of panels\n",
    "    \"azimuth\": 180,  # Azimuth direction\n",
    "    \"format\": \"json\",\n",
    "    \"dataset\": \"nsrdb\",\n",
    "    \"timeframe\": \"hourly\"\n",
    "}\n",
    "\n",
    "# Make the GET request\n",
    "response = requests.get(base_url, params=params)\n",
    "\n",
    "# Check response status. Turn into Global Dataframe\n",
    "if response.status_code == 200:\n",
    "    data = response.json()\n",
    "    \n",
    "    filtered_outputs = {k: v for k, v in data[\"outputs\"].items() if isinstance(v, list)}\n",
    "\n",
    "    max_length = max(len(v) for v in filtered_outputs.values())\n",
    "        \n",
    "    padded_outputs = {\n",
    "        k: v + [None] * (max_length - len(v)) for k,v in filtered_outputs.items()\n",
    "    \n",
    "    }\n",
    "\n",
    "    NSRDB_DATA = pd.DataFrame(padded_outputs)\n",
    "    pprint.pprint(NSRDB_DATA)\n",
    "    #NSRDB_DATAFRAME = pd.DataFrame{NSRDB_DATA}\n",
    "    #print(NSRDB_DATAFRAME)\n",
    "\n",
    "else:\n",
    "    print(f\"Error: {response.status_code}, {response.text}\")\n"
   ]
  },
  {
   "cell_type": "markdown",
   "metadata": {},
   "source": [
    "##### Section 2 #####\n",
    "Make three locations\n",
    "\n"
   ]
  },
  {
   "cell_type": "markdown",
   "metadata": {},
   "source": [
    "##### Section 3 #####\n",
    "Compare a week of data\n"
   ]
  },
  {
   "cell_type": "markdown",
   "metadata": {},
   "source": [
    "##### Section 4 #####\n",
    "Compare a month\n"
   ]
  },
  {
   "cell_type": "markdown",
   "metadata": {},
   "source": [
    "\n",
    "##### Section 5 #####\n",
    "Compare a year\n"
   ]
  },
  {
   "cell_type": "code",
   "execution_count": null,
   "metadata": {},
   "outputs": [],
   "source": []
  }
 ],
 "metadata": {
  "kernelspec": {
   "display_name": "base",
   "language": "python",
   "name": "python3"
  },
  "language_info": {
   "codemirror_mode": {
    "name": "ipython",
    "version": 3
   },
   "file_extension": ".py",
   "mimetype": "text/x-python",
   "name": "python",
   "nbconvert_exporter": "python",
   "pygments_lexer": "ipython3",
   "version": "3.8.8"
  }
 },
 "nbformat": 4,
 "nbformat_minor": 2
}
